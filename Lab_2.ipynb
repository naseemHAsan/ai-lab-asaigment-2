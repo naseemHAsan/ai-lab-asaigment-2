{
  "nbformat": 4,
  "nbformat_minor": 0,
  "metadata": {
    "colab": {
      "provenance": [],
      "collapsed_sections": []
    },
    "kernelspec": {
      "name": "python3",
      "display_name": "Python 3"
    },
    "language_info": {
      "name": "python"
    }
  },
  "cells": [
    {
      "cell_type": "markdown",
      "source": [
        "### Activity 1\n",
        "Accept two lists from user and display their join."
      ],
      "metadata": {
        "id": "HSzWaJRf_bzL"
      }
    },
    {
      "cell_type": "code",
      "source": [
        "list1 = []\n",
        "print('Enter objects of first list...')\n",
        "for i in range(5):\n",
        "  val = input('Enter a value: ')\n",
        "  n = int(val)\n",
        "  list1.append(n)\n",
        "\n",
        "list2 = []\n",
        "print('Enter objects of second list...')\n",
        "for i in range(5):\n",
        "  val = input('Enter a value:')\n",
        "  n = int(val)\n",
        "  list2.append(n)\n",
        "\n",
        "list3 = list1 + list2\n",
        "print(list3)    "
      ],
      "metadata": {
        "colab": {
          "base_uri": "https://localhost:8080/"
        },
        "id": "UMP0IlgnaCsw",
        "outputId": "783a61fd-540c-4963-f3a8-caaf41b3a991"
      },
      "execution_count": null,
      "outputs": [
        {
          "output_type": "stream",
          "name": "stdout",
          "text": [
            "Enter objects of first list...\n",
            "Enter a value: 1\n",
            "Enter a value: 2\n",
            "Enter a value: 3\n",
            "Enter a value: 4\n",
            "Enter a value: 5\n",
            "Enter objects of second list...\n",
            "Enter a value:6\n",
            "Enter a value:7\n",
            "Enter a value:8\n",
            "Enter a value:9\n",
            "Enter a value:10\n",
            "[1, 2, 3, 4, 5, 6, 7, 8, 9, 10]\n"
          ]
        }
      ]
    },
    {
      "cell_type": "markdown",
      "source": [
        "### Activity 2:\n",
        "A palindrome is a string which is same read forward or backwards.\n",
        "For example: \"dad\" is the same in forward or reverse direction. Another example is \"aibohphobia\"\n",
        "which literally means, an irritable fear of palindromes.\n",
        "Write a function in python that receives a string and returns True if that string is a palindrome and\n",
        "False otherwise. Remember that difference between upper and lower case characters are ignored\n",
        "during this determination."
      ],
      "metadata": {
        "id": "I_27C5FTa1it"
      }
    },
    {
      "cell_type": "code",
      "source": [
        "def isPalindrome(word):\n",
        "  temp = word[::-1]\n",
        "  if temp.capitalize() == word.capitalize():\n",
        "    return True\n",
        "  else:\n",
        "    return False\n",
        "\n",
        "print(isPalindrome('abba'))   \n",
        "print(isPalindrome('abcd'))    "
      ],
      "metadata": {
        "colab": {
          "base_uri": "https://localhost:8080/"
        },
        "id": "dfxbWxMNa7Z1",
        "outputId": "f46a8575-8176-4dd6-f745-afaa7d9dca08"
      },
      "execution_count": null,
      "outputs": [
        {
          "output_type": "stream",
          "name": "stdout",
          "text": [
            "True\n",
            "False\n"
          ]
        }
      ]
    },
    {
      "cell_type": "markdown",
      "source": [
        "### Activity 3:\n",
        "Imagine two matrices given in the form of 2D lists as under; a = [[1, 0, 0], [0, 1, 0], [0, 0, 1] ]\n",
        "b = [[1, 2, 3], [4, 5, 6], [7, 8, 9] ]\n",
        "Write a python code that finds another matrix/2D list that is a product of and b, i.e., C=a*b"
      ],
      "metadata": {
        "id": "nSm2V59Fba1N"
      }
    },
    {
      "cell_type": "code",
      "source": [
        "a = [[1, 0, 0], [0, 1, 0], [0, 0, 1] ]\n",
        "b = [[1, 2, 3], [4, 5, 6], [7, 8, 9] ]\n",
        "c = []\n",
        "\n",
        "for indrow in range(3):\n",
        "  c.append([])\n",
        "  for indcol in range(3):\n",
        "    c[indrow].append(0)\n",
        "    for indaux in range(3):\n",
        "      c[indrow][indcol] += a[indrow][indaux] * a[indcol][indaux]\n",
        "\n",
        "print(c)      "
      ],
      "metadata": {
        "colab": {
          "base_uri": "https://localhost:8080/"
        },
        "id": "w-621xbGbsuV",
        "outputId": "b501d0ff-e2c2-4988-8a89-5156850290e4"
      },
      "execution_count": null,
      "outputs": [
        {
          "output_type": "stream",
          "name": "stdout",
          "text": [
            "[[1, 0, 0], [0, 1, 0], [0, 0, 1]]\n"
          ]
        }
      ]
    },
    {
      "cell_type": "markdown",
      "source": [
        "### Activity 4:\n",
        "A closed polygon with N sides can be represented as a list of tuples of N connected coordinates, i.e.,\n",
        "[ (x1,y1), (x2,y2), (x3,y3), . . . , (xN,yN) ]. A sample polygon with 6 sides (N=6) is shown below.\n",
        "Figure 3 - Polygon"
      ],
      "metadata": {
        "id": "Nx9oxUM2ce7u"
      }
    },
    {
      "cell_type": "code",
      "source": [
        "def perimeter(listing):\n",
        "  leng = len(listing)\n",
        "  perimeter = 0\n",
        "  for i in range(0, leng - 1):\n",
        "    dist = (((listing[i][0] - listing[i+1][0])**2) + ((listing)[i][1] - listing[i+1][1])**2) ** 0.5\n",
        "    perimeter = perimeter + dist\n",
        "  perimeter = perimeter + (((listing[0][1] - listing[leng-1][0])**2) + ((listing)[i][1] - listing[leng-1][1])**2) ** 0.5\n",
        "  \n",
        "  return perimeter\n",
        "  \n",
        "L = [(1, 3), (2, 7), (3, 9), (-1, 8)]\n",
        "print(perimeter(L))"
      ],
      "metadata": {
        "colab": {
          "base_uri": "https://localhost:8080/"
        },
        "id": "Kh9iEaUJcxWZ",
        "outputId": "1b418b16-05ea-42de-a6c3-f6ff77fdf7e7"
      },
      "execution_count": null,
      "outputs": [
        {
          "output_type": "stream",
          "name": "stdout",
          "text": [
            "14.60538485435277\n"
          ]
        }
      ]
    },
    {
      "cell_type": "markdown",
      "source": [
        "### Activity 5:\n",
        "Imagine two sets A and B containing numbers. Without using built-in set functionalities, write your\n",
        "own function that receives two such sets and returns another set C which is a symmetric difference\n",
        "of the two input sets. (A symmetric difference between A and B will return a set C which contains\n",
        "only those items that appear in one of A or B. Any items that appear in both sets are not included in\n",
        "C). Now compare the output of your function with the following built-in functions/operators.\n",
        "* A.symmetric_difference(B)\n",
        "* B.symmetric_difference(A)\n",
        "* A ^ B\n",
        "* B ^ A\n"
      ],
      "metadata": {
        "id": "r_7K8AGggzfl"
      }
    },
    {
      "cell_type": "code",
      "source": [
        "def symmDiff(a, b):\n",
        "  e = set()\n",
        "  for i in a:\n",
        "    if i not in b:\n",
        "      e.add(i)\n",
        "  for i in b:\n",
        "    if i not in a:\n",
        "      e.add(i)\n",
        "\n",
        "  return e\n",
        "\n",
        "set1 = {0, 1, 2, 4, 5}\n",
        "set2 = {4, 5, 7, 8, 9} \n",
        "print(symmDiff(set1, set2))  \n",
        "\n",
        "print(set1.symmetric_difference(set2))\n",
        "print(set2.symmetric_difference(set1))\n",
        "print(set1^set2)\n",
        "print(set2^set1)"
      ],
      "metadata": {
        "colab": {
          "base_uri": "https://localhost:8080/"
        },
        "id": "HHjuoNbVhFwy",
        "outputId": "af53a23d-de6b-472e-f6d8-6f0615b42fec"
      },
      "execution_count": null,
      "outputs": [
        {
          "output_type": "stream",
          "name": "stdout",
          "text": [
            "{0, 1, 2, 7, 8, 9}\n",
            "{0, 1, 2, 7, 8, 9}\n",
            "{0, 1, 2, 7, 8, 9}\n",
            "{0, 1, 2, 7, 8, 9}\n",
            "{0, 1, 2, 7, 8, 9}\n"
          ]
        }
      ]
    }
  ]
}