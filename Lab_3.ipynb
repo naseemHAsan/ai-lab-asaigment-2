{
  "nbformat": 4,
  "nbformat_minor": 0,
  "metadata": {
    "colab": {
      "provenance": [],
      "collapsed_sections": []
    },
    "kernelspec": {
      "name": "python3",
      "display_name": "Python 3"
    },
    "language_info": {
      "name": "python"
    }
  },
  "cells": [
    {
      "cell_type": "markdown",
      "source": [
        "### Activity 1:\n",
        "Consider a toy problem that can be represented as a following graph. How would you represent this\n",
        "graph in python?"
      ],
      "metadata": {
        "id": "AgwR-VwS59RH"
      }
    },
    {
      "cell_type": "code",
      "source": [
        "class Node:\n",
        "  def __init__(self, state, parent, actions, totalCost):\n",
        "    self.state = state\n",
        "    self.parent = parent\n",
        "    self.actions = actions\n",
        "    self.totalCost = totalCost"
      ],
      "metadata": {
        "id": "WCXquOYj6sMA"
      },
      "execution_count": null,
      "outputs": []
    },
    {
      "cell_type": "code",
      "source": [
        "graph = {'A': Node('A', None, ['B', 'C', 'E'], None),\n",
        "         'B': Node('B', None, ['A', 'D', 'E'], None),\n",
        "         'C': Node('C', None, ['A', 'F', 'G'], None),\n",
        "         'D': Node('D', None, ['B', 'E'], None),\n",
        "         'E': Node('E', None, ['A', 'B', 'D'], None),\n",
        "         'F': Node('F', None, ['C'], None),\n",
        "         'G': Node('G', None, ['C'], None)}\n",
        "\n",
        "graph         "
      ],
      "metadata": {
        "colab": {
          "base_uri": "https://localhost:8080/"
        },
        "id": "0Y_nwdtp7Vzn",
        "outputId": "01fd22e9-034a-476c-89f2-8665923e6c5c"
      },
      "execution_count": null,
      "outputs": [
        {
          "output_type": "execute_result",
          "data": {
            "text/plain": [
              "{'A': <__main__.Node at 0x7f4b4b3d2450>,\n",
              " 'B': <__main__.Node at 0x7f4b4b3d2190>,\n",
              " 'C': <__main__.Node at 0x7f4b4b3d2210>,\n",
              " 'D': <__main__.Node at 0x7f4b4b3d2110>,\n",
              " 'E': <__main__.Node at 0x7f4b4b3d2590>,\n",
              " 'F': <__main__.Node at 0x7f4b4b3d23d0>,\n",
              " 'G': <__main__.Node at 0x7f4b4b3d21d0>}"
            ]
          },
          "metadata": {},
          "execution_count": 3
        }
      ]
    },
    {
      "cell_type": "markdown",
      "source": [
        "### Activity 1 - b\n",
        "For the graph in previous activity, imagine node A as starting node and your goal is to reach F.\n",
        "Keeping breadth first search in mind, describe a sequence of actions that you must take to reach that\n",
        "goal state."
      ],
      "metadata": {
        "id": "rMJ7pST68yva"
      }
    },
    {
      "cell_type": "code",
      "source": [
        "def BFS():\n",
        "  initialState = 'D'\n",
        "  goalState = 'F'\n",
        "\n",
        "  graph = {'A': Node('A', None, ['B', 'C', 'E'], None),\n",
        "         'B': Node('B', None, ['A', 'D', 'E'], None),\n",
        "         'C': Node('C', None, ['A', 'F', 'G'], None),\n",
        "         'D': Node('D', None, ['B', 'E'], None),\n",
        "         'E': Node('E', None, ['A', 'B', 'D'], None),\n",
        "         'F': Node('F', None, ['C'], None),\n",
        "         'G': Node('G', None, ['C'], None)}\n",
        "\n",
        "  frontier = [initialState] \n",
        "  explored = []\n",
        "\n",
        "while len(frontier)!=0:\n",
        "  currentNode = frontier.pop(0)\n",
        "  explored.append(currentNode)\n",
        "  for child in graph[currentNode].actions:\n",
        "    if child not in frontier and child not in explored:\n",
        "      graph[child].parent = currentNode\n",
        "      if graph[child].state = goalState:\n",
        "        return actionSequence(graph, initialState, goalState)\n",
        "      frontier.append(child)"
      ],
      "metadata": {
        "id": "VP1alGso8_9f"
      },
      "execution_count": null,
      "outputs": []
    }
  ]
}